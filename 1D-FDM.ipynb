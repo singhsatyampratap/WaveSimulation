{
 "cells": [
  {
   "cell_type": "code",
   "execution_count": null,
   "metadata": {},
   "outputs": [],
   "source": [
    "import numpy as np\n",
    "import matplotlib.pyplot as plt\n",
    "from matplotlib import gridspec\n",
    "import matplotlib\n",
    "matplotlib.use(\"nbagg\")\n",
    "import warnings\n",
    "warnings.filterwarnings(\"ignore\")"
   ]
  },
  {
   "cell_type": "code",
   "execution_count": null,
   "metadata": {},
   "outputs": [],
   "source": [
    "#discretization\n",
    "nx=1000;\n",
    "dx=0.1\n",
    "nt=10000\n",
    "dt=0.0001\n",
    "c0=300"
   ]
  },
  {
   "cell_type": "code",
   "execution_count": null,
   "metadata": {},
   "outputs": [],
   "source": [
    "#cfl\n",
    "epsilon=c0*dt/dx\n",
    "print(epsilon)"
   ]
  },
  {
   "cell_type": "code",
   "execution_count": null,
   "metadata": {},
   "outputs": [],
   "source": [
    "#source function\n",
    "\n",
    "f0=25.\n",
    "t0=4./f0\n",
    "src= np.zeros(nt+1)\n",
    "time=np.linspace(0,nt*dt,nt)\n",
    "src  = -2. * (time - t0) * (f0 ** 2) * (np.exp(-1.0 * (f0 ** 2) * (time - t0) ** 2))\n",
    "fig1=plt.figure(figsize=[12,6])\n",
    "gs1=gridspec.GridSpec(1, 2, width_ratios=[1, 1], hspace=0.3, wspace=0.3)\n",
    "ax1=plt.subplot(gs1[0])\n",
    "\n",
    "plt.ion()\n",
    "ax1.set_title('Source Function')\n",
    "ax1.set_xlabel('Time')\n",
    "ax1.set_ylabel('Amplitude')\n",
    "ax1.plot(time,src)\n",
    "\n",
    "\n",
    "ax2=plt.subplot(gs1[1])\n",
    "ax2.set_title('Source Spectrum')\n",
    "spec=np.fft.fft(src)\n",
    "freq=np.fft.fftfreq(spec.size,d=dt/4.0)\n",
    "ax2.set_xlabel('Frequency')\n",
    "ax2.set_xlim(0, 250)\n",
    "ax2.set_ylabel('Amplitude')\n",
    "ax2.plot(np.abs(freq),np.abs(spec))\n",
    "#ax2.yaxis.tick_right()\n",
    "#ax2.yaxis.set_label_position(\"right\")\n",
    "plt.show()"
   ]
  },
  {
   "cell_type": "code",
   "execution_count": null,
   "metadata": {},
   "outputs": [],
   "source": [
    "p=np.zeros(nx)\n",
    "pold=np.zeros(nx)\n",
    "pnew=np.zeros(nx)\n",
    "d2p=np.zeros(nx)\n",
    "c=np.zeros(nx)\n",
    "c=c+c0\n",
    "\n",
    "plt.ion()\n",
    "fig2=plt.figure(figsize=[12,6])\n",
    "gs2=gridspec.GridSpec(1,2, width_ratios=[1, 1], hspace=0.3, wspace=0.3)\n",
    "\n",
    "\n",
    "ax3=plt.subplot(gs2[0])\n",
    "up31,=ax3.plot(p)\n",
    "ax3.set_title('Time Step (nt) = 0')\n",
    "ax3.set_xlabel('nx')\n",
    "ax3.set_ylim(-0.005,0.005)\n",
    "ax3.set_ylabel(\"Amplitude\")\n",
    "plt.show()\n"
   ]
  },
  {
   "cell_type": "code",
   "execution_count": null,
   "metadata": {},
   "outputs": [],
   "source": [
    "#time exptraploation\n",
    "isrc=500\n",
    "for it in range(nt):\n",
    "    for i in range(1,nx-1):\n",
    "        d2p[i]=(p[i+1]-2*p[i]+p[i-1])/dx**2\n",
    "    pnew=2*p-pold+(c*dt)**2*d2p\n",
    "    pnew[isrc]=pnew[isrc]+dt**2*src[it]/dx\n",
    "    pold,p=p,pnew\n",
    "    \n",
    "    idisp = 50 # display frequency\n",
    "    if (it % idisp) == 0:\n",
    "        ax3.set_title('Time Step (nt) = %d' % it)\n",
    "        up31.set_ydata(p)\n",
    "        plt.gcf().canvas.draw()\n",
    "        "
   ]
  },
  {
   "cell_type": "code",
   "execution_count": null,
   "metadata": {},
   "outputs": [],
   "source": []
  }
 ],
 "metadata": {
  "kernelspec": {
   "display_name": "Python 3",
   "language": "python",
   "name": "python3"
  },
  "language_info": {
   "codemirror_mode": {
    "name": "ipython",
    "version": 3
   },
   "file_extension": ".py",
   "mimetype": "text/x-python",
   "name": "python",
   "nbconvert_exporter": "python",
   "pygments_lexer": "ipython3",
   "version": "3.7.6"
  }
 },
 "nbformat": 4,
 "nbformat_minor": 4
}
